{
 "cells": [
  {
   "cell_type": "code",
   "execution_count": 2,
   "id": "6faa33be",
   "metadata": {},
   "outputs": [],
   "source": [
    "# pip install mediapipe"
   ]
  },
  {
   "cell_type": "code",
   "execution_count": 3,
   "id": "5901f9a5",
   "metadata": {},
   "outputs": [],
   "source": [
    "# pip install mediapipe"
   ]
  },
  {
   "cell_type": "code",
   "execution_count": 4,
   "id": "014de94a",
   "metadata": {},
   "outputs": [],
   "source": [
    "# pip install screen-brightness-control"
   ]
  },
  {
   "cell_type": "code",
   "execution_count": 5,
   "id": "b098896b",
   "metadata": {},
   "outputs": [],
   "source": [
    "# Importing Libraries \n",
    "import cv2 \n",
    "import mediapipe as mp \n",
    "from math import hypot \n",
    "import screen_brightness_control as sbc \n",
    "import numpy as np \n"
   ]
  },
  {
   "cell_type": "code",
   "execution_count": 6,
   "id": "f32f9437",
   "metadata": {},
   "outputs": [],
   "source": [
    "# Initializing the Model \n",
    "mpHands = mp.solutions.hands \n",
    "hands = mpHands.Hands( \n",
    "    static_image_mode=False, \n",
    "    model_complexity=1, \n",
    "    min_detection_confidence=0.75, \n",
    "    min_tracking_confidence=0.75, \n",
    "    max_num_hands=2) \n",
    "  \n",
    "Draw = mp.solutions.drawing_utils "
   ]
  },
  {
   "cell_type": "code",
   "execution_count": 7,
   "id": "444f4e56",
   "metadata": {},
   "outputs": [
    {
     "ename": "error",
     "evalue": "OpenCV(4.8.1) D:\\a\\opencv-python\\opencv-python\\opencv\\modules\\imgproc\\src\\color.cpp:182: error: (-215:Assertion failed) !_src.empty() in function 'cv::cvtColor'\n",
     "output_type": "error",
     "traceback": [
      "\u001b[1;31m---------------------------------------------------------------------------\u001b[0m",
      "\u001b[1;31merror\u001b[0m                                     Traceback (most recent call last)",
      "Input \u001b[1;32mIn [7]\u001b[0m, in \u001b[0;36m<cell line: 6>\u001b[1;34m()\u001b[0m\n\u001b[0;32m      9\u001b[0m frame \u001b[38;5;241m=\u001b[39m cv2\u001b[38;5;241m.\u001b[39mflip(frame, \u001b[38;5;241m1\u001b[39m) \n\u001b[0;32m     11\u001b[0m \u001b[38;5;66;03m# Convert BGR image to RGB image \u001b[39;00m\n\u001b[1;32m---> 12\u001b[0m frameRGB \u001b[38;5;241m=\u001b[39m \u001b[43mcv2\u001b[49m\u001b[38;5;241;43m.\u001b[39;49m\u001b[43mcvtColor\u001b[49m\u001b[43m(\u001b[49m\u001b[43mframe\u001b[49m\u001b[43m,\u001b[49m\u001b[43m \u001b[49m\u001b[43mcv2\u001b[49m\u001b[38;5;241;43m.\u001b[39;49m\u001b[43mCOLOR_BGR2RGB\u001b[49m\u001b[43m)\u001b[49m \n\u001b[0;32m     14\u001b[0m \u001b[38;5;66;03m# Process the RGB image \u001b[39;00m\n\u001b[0;32m     15\u001b[0m Process \u001b[38;5;241m=\u001b[39m hands\u001b[38;5;241m.\u001b[39mprocess(frameRGB) \n",
      "\u001b[1;31merror\u001b[0m: OpenCV(4.8.1) D:\\a\\opencv-python\\opencv-python\\opencv\\modules\\imgproc\\src\\color.cpp:182: error: (-215:Assertion failed) !_src.empty() in function 'cv::cvtColor'\n"
     ]
    }
   ],
   "source": [
    "# Start capturing video from webcam \n",
    "cap = cv2.VideoCapture(0) \n",
    "  \n",
    "while True: \n",
    "    # Read video frame by frame \n",
    "    _, frame = cap.read() \n",
    "  \n",
    "    # Flip image \n",
    "    frame = cv2.flip(frame, 1) \n",
    "  \n",
    "    # Convert BGR image to RGB image \n",
    "    frameRGB = cv2.cvtColor(frame, cv2.COLOR_BGR2RGB) \n",
    "  \n",
    "    # Process the RGB image \n",
    "    Process = hands.process(frameRGB) \n",
    "  \n",
    "    landmarkList = [] \n",
    "    # if hands are present in image(frame) \n",
    "    if Process.multi_hand_landmarks: \n",
    "        # detect handmarks \n",
    "        for handlm in Process.multi_hand_landmarks: \n",
    "            for _id, landmarks in enumerate(handlm.landmark): \n",
    "                # store height and width of image \n",
    "                height, width, color_channels = frame.shape \n",
    "  \n",
    "                # calculate and append x, y coordinates \n",
    "                # of handmarks from image(frame) to lmList \n",
    "                x, y = int(landmarks.x*width), int(landmarks.y*height) \n",
    "                landmarkList.append([_id, x, y]) \n",
    "  \n",
    "            # draw Landmarks \n",
    "            Draw.draw_landmarks(frame, handlm, \n",
    "                                mpHands.HAND_CONNECTIONS) \n",
    "  \n",
    "    # If landmarks list is not empty \n",
    "    if landmarkList != []: \n",
    "        # store x,y coordinates of (tip of) thumb \n",
    "        x_1, y_1 = landmarkList[4][1], landmarkList[4][2] \n",
    "  \n",
    "        # store x,y coordinates of (tip of) index finger \n",
    "        x_2, y_2 = landmarkList[8][1], landmarkList[8][2] \n",
    "  \n",
    "        # draw circle on thumb and index finger tip \n",
    "        cv2.circle(frame, (x_1, y_1), 7, (0, 255, 0), cv2.FILLED) \n",
    "        cv2.circle(frame, (x_2, y_2), 7, (0, 255, 0), cv2.FILLED) \n",
    "  \n",
    "        # draw line from tip of thumb to tip of index finger \n",
    "        cv2.line(frame, (x_1, y_1), (x_2, y_2), (0, 255, 0), 3) \n",
    "  \n",
    "        # calculate square root of the sum of \n",
    "        # squares of the specified arguments. \n",
    "        L = hypot(x_2-x_1, y_2-y_1) \n",
    "  \n",
    "        # 1-D linear interpolant to a function \n",
    "        # with given discrete data points \n",
    "        # (Hand range 15 - 220, Brightness \n",
    "        # range 0 - 100), evaluated at length. \n",
    "        b_level = np.interp(L, [15, 220], [0, 100]) \n",
    "  \n",
    "        # set brightness \n",
    "        sbc.set_brightness(int(b_level)) \n",
    "  \n",
    "    # Display Video and when 'q' is entered, destroy  \n",
    "    # the window \n",
    "    cv2.imshow('Image', frame) \n",
    "    if cv2.waitKey(1) & 0xff == ord('q'): \n",
    "        break"
   ]
  },
  {
   "cell_type": "code",
   "execution_count": null,
   "id": "448816fa",
   "metadata": {},
   "outputs": [],
   "source": []
  }
 ],
 "metadata": {
  "kernelspec": {
   "display_name": "Python 3 (ipykernel)",
   "language": "python",
   "name": "python3"
  },
  "language_info": {
   "codemirror_mode": {
    "name": "ipython",
    "version": 3
   },
   "file_extension": ".py",
   "mimetype": "text/x-python",
   "name": "python",
   "nbconvert_exporter": "python",
   "pygments_lexer": "ipython3",
   "version": "3.9.12"
  }
 },
 "nbformat": 4,
 "nbformat_minor": 5
}
